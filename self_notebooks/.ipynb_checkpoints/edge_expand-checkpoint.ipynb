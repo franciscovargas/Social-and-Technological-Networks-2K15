{
 "cells": [
  {
   "cell_type": "markdown",
   "metadata": {},
   "source": [
    "# Expansions\n",
    "\n",
    "\n",
    "TODO: Need a formal definition of this... # yoloswag\n",
    "\n",
    "![alt text](https://raw.githubusercontent.com/franciscovargas/Social-and-Technological-Networks-2K15/master/self_notebooks/exp1.png \"Logo Title Text 1\")\n",
    "\n",
    "## Edge Expansion\n",
    "\n",
    "\\begin{equation}\n",
    "\\alpha= min_{S \\subseteq V} \\frac{e^{out}(S)}{min(|S|, |\\bar{S}|)}\n",
    "\\end{equation}\n",
    "\n",
    "* $\\alpha$ is the edge expansion factor;\n",
    "* $V$ is the vertex set of the graph.\n",
    "\n",
    "## d-regular graph\n",
    "\n",
    "A graph is d-regular if $alpha \\leq d$ s.t:\n",
    "\\begin{equation}\n",
    "\\alpha= min_{|S| \\leq \\frac{|V|}{2}}\\frac{e^{out}(S)}{|S|}\n",
    "\\end{equation}\n",
    "\n",
    "Less formally speaking a graph is d-regular if all of its vertices have d neighbours."
   ]
  },
  {
   "cell_type": "code",
   "execution_count": null,
   "metadata": {
    "collapsed": true
   },
   "outputs": [],
   "source": []
  }
 ],
 "metadata": {
  "kernelspec": {
   "display_name": "Python 2",
   "language": "python",
   "name": "python2"
  },
  "language_info": {
   "codemirror_mode": {
    "name": "ipython",
    "version": 2
   },
   "file_extension": ".py",
   "mimetype": "text/x-python",
   "name": "python",
   "nbconvert_exporter": "python",
   "pygments_lexer": "ipython2",
   "version": "2.7.5+"
  }
 },
 "nbformat": 4,
 "nbformat_minor": 0
}
