{
 "cells": [
  {
   "cell_type": "markdown",
   "metadata": {},
   "source": [
    "# Expansions\n",
    "\n",
    "\n",
    "TODO: Need a formal definition of this... # yoloswag\n",
    "[]!\n",
    "\n",
    "## Edge Expansion\n",
    "\n",
    "\\begin{equation}\n",
    "\\alpha= min_{S \\subseteq V} \\frac{e^{out}(S)}{min(|S|, |\\bar{S}|)}\n",
    "\\end{equation}\n",
    "\n",
    "* $\\alpha$ is the edge expansion factor;\n",
    "* $V$ is the vertex set of the graph.\n",
    "\n",
    "## d-regular graph\n",
    "\n",
    "A graph is d-regular if $alpha \\leq d$ s.t:\n",
    "\\begin{equation}\n",
    "\\alpha= min_{|S| \\leq \\frac{n}{}}\\frac{e^{out}(S)}{min(|S|, |\\bar{S}|)}\n",
    "\\end{equation}\n"
   ]
  },
  {
   "cell_type": "code",
   "execution_count": null,
   "metadata": {
    "collapsed": true
   },
   "outputs": [],
   "source": []
  }
 ],
 "metadata": {
  "kernelspec": {
   "display_name": "Python 2",
   "language": "python",
   "name": "python2"
  },
  "language_info": {
   "codemirror_mode": {
    "name": "ipython",
    "version": 2
   },
   "file_extension": ".py",
   "mimetype": "text/x-python",
   "name": "python",
   "nbconvert_exporter": "python",
   "pygments_lexer": "ipython2",
   "version": "2.7.5+"
  }
 },
 "nbformat": 4,
 "nbformat_minor": 0
}
